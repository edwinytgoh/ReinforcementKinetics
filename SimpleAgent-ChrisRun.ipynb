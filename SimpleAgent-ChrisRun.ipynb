{
 "cells": [
  {
   "cell_type": "code",
   "execution_count": 1,
   "metadata": {},
   "outputs": [],
   "source": [
    "import warnings\n",
    "warnings.filterwarnings(\"ignore\")\n",
    "warnings.filterwarnings('ignore', category=DeprecationWarning)\n",
    "warnings.filterwarnings('ignore', category=FutureWarning)"
   ]
  },
  {
   "cell_type": "code",
   "execution_count": 3,
   "metadata": {
    "ExecuteTime": {
     "start_time": "2019-10-30T01:44:05.133Z"
    }
   },
   "outputs": [
    {
     "name": "stdout",
     "output_type": "stream",
     "text": [
      "The autoreload extension is already loaded. To reload it, use:\n",
      "  %reload_ext autoreload\n"
     ]
    }
   ],
   "source": [
    "%load_ext autoreload\n",
    "%autoreload 2\n",
    "%load_ext line_profiler\n",
    "import cantera as ct\n",
    "import os\n",
    "import gym \n",
    "import numpy as np \n",
    "from stable_baselines.common.policies import MlpPolicy, CnnLstmPolicy,MlpLstmPolicy\n",
    "from stable_baselines.common.vec_env import SubprocVecEnv\n",
    "from stable_baselines.bench import Monitor\n",
    "from stable_baselines.results_plotter import load_results, ts2xy\n",
    "from stable_baselines.common import set_global_seeds\n",
    "from stable_baselines import ACKTR\n",
    "from envs.sim_env import SimEnv\n",
    "# os.environ['TF_CPP_MIN_LOG_LEVEL'] = '3'\n"
   ]
  },
  {
   "cell_type": "code",
   "execution_count": 4,
   "metadata": {
    "ExecuteTime": {
     "end_time": "2019-10-30T01:17:08.242457Z",
     "start_time": "2019-10-30T01:17:02.932751Z"
    },
    "scrolled": false
   },
   "outputs": [
    {
     "name": "stdout",
     "output_type": "stream",
     "text": [
      "WARNING:tensorflow:From C:\\Users\\ChunQi\\Anaconda3\\envs\\TestEnv\\lib\\site-packages\\stable_baselines\\common\\tf_util.py:57: The name tf.ConfigProto is deprecated. Please use tf.compat.v1.ConfigProto instead.\n",
      "\n",
      "WARNING:tensorflow:From C:\\Users\\ChunQi\\Anaconda3\\envs\\TestEnv\\lib\\site-packages\\stable_baselines\\common\\tf_util.py:66: The name tf.Session is deprecated. Please use tf.compat.v1.Session instead.\n",
      "\n",
      "WARNING:tensorflow:From C:\\Users\\ChunQi\\Anaconda3\\envs\\TestEnv\\lib\\site-packages\\stable_baselines\\common\\policies.py:115: The name tf.variable_scope is deprecated. Please use tf.compat.v1.variable_scope instead.\n",
      "\n",
      "WARNING:tensorflow:From C:\\Users\\ChunQi\\Anaconda3\\envs\\TestEnv\\lib\\site-packages\\stable_baselines\\common\\input.py:25: The name tf.placeholder is deprecated. Please use tf.compat.v1.placeholder instead.\n",
      "\n",
      "WARNING:tensorflow:From C:\\Users\\ChunQi\\Anaconda3\\envs\\TestEnv\\lib\\site-packages\\stable_baselines\\common\\policies.py:421: flatten (from tensorflow.python.layers.core) is deprecated and will be removed in a future version.\n",
      "Instructions for updating:\n",
      "Use keras.layers.flatten instead.\n",
      "WARNING:tensorflow:Entity <bound method Flatten.call of <tensorflow.python.layers.core.Flatten object at 0x00000212BD198388>> could not be transformed and will be executed as-is. Please report this to the AutgoGraph team. When filing the bug, set the verbosity to 10 (on Linux, `export AUTOGRAPH_VERBOSITY=10`) and attach the full output. Cause: converting <bound method Flatten.call of <tensorflow.python.layers.core.Flatten object at 0x00000212BD198388>>: AttributeError: module 'gast' has no attribute 'Num'\n",
      "WARNING: Entity <bound method Flatten.call of <tensorflow.python.layers.core.Flatten object at 0x00000212BD198388>> could not be transformed and will be executed as-is. Please report this to the AutgoGraph team. When filing the bug, set the verbosity to 10 (on Linux, `export AUTOGRAPH_VERBOSITY=10`) and attach the full output. Cause: converting <bound method Flatten.call of <tensorflow.python.layers.core.Flatten object at 0x00000212BD198388>>: AttributeError: module 'gast' has no attribute 'Num'\n",
      "WARNING:tensorflow:From C:\\Users\\ChunQi\\Anaconda3\\envs\\TestEnv\\lib\\site-packages\\stable_baselines\\a2c\\utils.py:156: The name tf.get_variable is deprecated. Please use tf.compat.v1.get_variable instead.\n",
      "\n",
      "WARNING:tensorflow:Entity <bound method Flatten.call of <tensorflow.python.layers.core.Flatten object at 0x00000212BD4ABBC8>> could not be transformed and will be executed as-is. Please report this to the AutgoGraph team. When filing the bug, set the verbosity to 10 (on Linux, `export AUTOGRAPH_VERBOSITY=10`) and attach the full output. Cause: converting <bound method Flatten.call of <tensorflow.python.layers.core.Flatten object at 0x00000212BD4ABBC8>>: AttributeError: module 'gast' has no attribute 'Num'\n",
      "WARNING: Entity <bound method Flatten.call of <tensorflow.python.layers.core.Flatten object at 0x00000212BD4ABBC8>> could not be transformed and will be executed as-is. Please report this to the AutgoGraph team. When filing the bug, set the verbosity to 10 (on Linux, `export AUTOGRAPH_VERBOSITY=10`) and attach the full output. Cause: converting <bound method Flatten.call of <tensorflow.python.layers.core.Flatten object at 0x00000212BD4ABBC8>>: AttributeError: module 'gast' has no attribute 'Num'\n",
      "WARNING:tensorflow:From C:\\Users\\ChunQi\\Anaconda3\\envs\\TestEnv\\lib\\site-packages\\stable_baselines\\acktr\\acktr.py:163: The name tf.summary.scalar is deprecated. Please use tf.compat.v1.summary.scalar instead.\n",
      "\n",
      "WARNING:tensorflow:From C:\\Users\\ChunQi\\Anaconda3\\envs\\TestEnv\\lib\\site-packages\\tensorflow\\python\\ops\\math_grad.py:1205: add_dispatch_support.<locals>.wrapper (from tensorflow.python.ops.array_ops) is deprecated and will be removed in a future version.\n",
      "Instructions for updating:\n",
      "Use tf.where in 2.0, which has the same broadcast rule as np.where\n",
      "WARNING:tensorflow:From C:\\Users\\ChunQi\\Anaconda3\\envs\\TestEnv\\lib\\site-packages\\stable_baselines\\acktr\\acktr.py:205: The name tf.summary.merge_all is deprecated. Please use tf.compat.v1.summary.merge_all instead.\n",
      "\n",
      "WARNING:tensorflow:From C:\\Users\\ChunQi\\Anaconda3\\envs\\TestEnv\\lib\\site-packages\\stable_baselines\\acktr\\kfac.py:968: The name tf.train.MomentumOptimizer is deprecated. Please use tf.compat.v1.train.MomentumOptimizer instead.\n",
      "\n",
      "----------------------------------\n",
      "| explained_variance | -3.34e-06 |\n",
      "| fps                | 8         |\n",
      "| nupdates           | 1         |\n",
      "| policy_entropy     | 4.26      |\n",
      "| policy_loss        | 0.426     |\n",
      "| total_timesteps    | 0         |\n",
      "| value_loss         | 1.29e+07  |\n",
      "----------------------------------\n"
     ]
    },
    {
     "ename": "InvalidArgumentError",
     "evalue": "2 root error(s) found.\n  (0) Invalid argument: Self-adjoint eigen decomposition was not successful. The input might not be valid.\n\t [[node kfac_apply/cond/SelfAdjointEigV2 (defined at C:\\Users\\ChunQi\\Anaconda3\\envs\\TestEnv\\lib\\site-packages\\stable_baselines\\acktr\\kfac.py:616) ]]\n  (1) Invalid argument: Self-adjoint eigen decomposition was not successful. The input might not be valid.\n\t [[node kfac_apply/cond/SelfAdjointEigV2 (defined at C:\\Users\\ChunQi\\Anaconda3\\envs\\TestEnv\\lib\\site-packages\\stable_baselines\\acktr\\kfac.py:616) ]]\n\t [[kfac_apply/cond_1/Min_2/Switch/_383]]\n0 successful operations.\n0 derived errors ignored.\n\nErrors may have originated from an input operation.\nInput Source operations connected to node kfac_apply/cond/SelfAdjointEigV2:\n kfac/cond/Merge (defined at C:\\Users\\ChunQi\\Anaconda3\\envs\\TestEnv\\lib\\site-packages\\stable_baselines\\acktr\\kfac.py:526)\t\n kfac_apply/AssignAdd (defined at C:\\Users\\ChunQi\\Anaconda3\\envs\\TestEnv\\lib\\site-packages\\stable_baselines\\acktr\\kfac.py:891)\n\nInput Source operations connected to node kfac_apply/cond/SelfAdjointEigV2:\n kfac/cond/Merge (defined at C:\\Users\\ChunQi\\Anaconda3\\envs\\TestEnv\\lib\\site-packages\\stable_baselines\\acktr\\kfac.py:526)\t\n kfac_apply/AssignAdd (defined at C:\\Users\\ChunQi\\Anaconda3\\envs\\TestEnv\\lib\\site-packages\\stable_baselines\\acktr\\kfac.py:891)\n\nOriginal stack trace for 'kfac_apply/cond/SelfAdjointEigV2':\n  File \"C:\\Users\\ChunQi\\Anaconda3\\envs\\TestEnv\\lib\\runpy.py\", line 193, in _run_module_as_main\n    \"__main__\", mod_spec)\n  File \"C:\\Users\\ChunQi\\Anaconda3\\envs\\TestEnv\\lib\\runpy.py\", line 85, in _run_code\n    exec(code, run_globals)\n  File \"C:\\Users\\ChunQi\\Anaconda3\\envs\\TestEnv\\lib\\site-packages\\ipykernel_launcher.py\", line 16, in <module>\n    app.launch_new_instance()\n  File \"C:\\Users\\ChunQi\\Anaconda3\\envs\\TestEnv\\lib\\site-packages\\traitlets\\config\\application.py\", line 664, in launch_instance\n    app.start()\n  File \"C:\\Users\\ChunQi\\Anaconda3\\envs\\TestEnv\\lib\\site-packages\\ipykernel\\kernelapp.py\", line 563, in start\n    self.io_loop.start()\n  File \"C:\\Users\\ChunQi\\Anaconda3\\envs\\TestEnv\\lib\\site-packages\\tornado\\platform\\asyncio.py\", line 148, in start\n    self.asyncio_loop.run_forever()\n  File \"C:\\Users\\ChunQi\\Anaconda3\\envs\\TestEnv\\lib\\asyncio\\base_events.py\", line 534, in run_forever\n    self._run_once()\n  File \"C:\\Users\\ChunQi\\Anaconda3\\envs\\TestEnv\\lib\\asyncio\\base_events.py\", line 1771, in _run_once\n    handle._run()\n  File \"C:\\Users\\ChunQi\\Anaconda3\\envs\\TestEnv\\lib\\asyncio\\events.py\", line 88, in _run\n    self._context.run(self._callback, *self._args)\n  File \"C:\\Users\\ChunQi\\Anaconda3\\envs\\TestEnv\\lib\\site-packages\\tornado\\ioloop.py\", line 690, in <lambda>\n    lambda f: self._run_callback(functools.partial(callback, future))\n  File \"C:\\Users\\ChunQi\\Anaconda3\\envs\\TestEnv\\lib\\site-packages\\tornado\\ioloop.py\", line 743, in _run_callback\n    ret = callback()\n  File \"C:\\Users\\ChunQi\\Anaconda3\\envs\\TestEnv\\lib\\site-packages\\tornado\\gen.py\", line 787, in inner\n    self.run()\n  File \"C:\\Users\\ChunQi\\Anaconda3\\envs\\TestEnv\\lib\\site-packages\\tornado\\gen.py\", line 748, in run\n    yielded = self.gen.send(value)\n  File \"C:\\Users\\ChunQi\\Anaconda3\\envs\\TestEnv\\lib\\site-packages\\ipykernel\\kernelbase.py\", line 378, in dispatch_queue\n    yield self.process_one()\n  File \"C:\\Users\\ChunQi\\Anaconda3\\envs\\TestEnv\\lib\\site-packages\\tornado\\gen.py\", line 225, in wrapper\n    runner = Runner(result, future, yielded)\n  File \"C:\\Users\\ChunQi\\Anaconda3\\envs\\TestEnv\\lib\\site-packages\\tornado\\gen.py\", line 714, in __init__\n    self.run()\n  File \"C:\\Users\\ChunQi\\Anaconda3\\envs\\TestEnv\\lib\\site-packages\\tornado\\gen.py\", line 748, in run\n    yielded = self.gen.send(value)\n  File \"C:\\Users\\ChunQi\\Anaconda3\\envs\\TestEnv\\lib\\site-packages\\ipykernel\\kernelbase.py\", line 365, in process_one\n    yield gen.maybe_future(dispatch(*args))\n  File \"C:\\Users\\ChunQi\\Anaconda3\\envs\\TestEnv\\lib\\site-packages\\tornado\\gen.py\", line 209, in wrapper\n    yielded = next(result)\n  File \"C:\\Users\\ChunQi\\Anaconda3\\envs\\TestEnv\\lib\\site-packages\\ipykernel\\kernelbase.py\", line 272, in dispatch_shell\n    yield gen.maybe_future(handler(stream, idents, msg))\n  File \"C:\\Users\\ChunQi\\Anaconda3\\envs\\TestEnv\\lib\\site-packages\\tornado\\gen.py\", line 209, in wrapper\n    yielded = next(result)\n  File \"C:\\Users\\ChunQi\\Anaconda3\\envs\\TestEnv\\lib\\site-packages\\ipykernel\\kernelbase.py\", line 542, in execute_request\n    user_expressions, allow_stdin,\n  File \"C:\\Users\\ChunQi\\Anaconda3\\envs\\TestEnv\\lib\\site-packages\\tornado\\gen.py\", line 209, in wrapper\n    yielded = next(result)\n  File \"C:\\Users\\ChunQi\\Anaconda3\\envs\\TestEnv\\lib\\site-packages\\ipykernel\\ipkernel.py\", line 294, in do_execute\n    res = shell.run_cell(code, store_history=store_history, silent=silent)\n  File \"C:\\Users\\ChunQi\\Anaconda3\\envs\\TestEnv\\lib\\site-packages\\ipykernel\\zmqshell.py\", line 536, in run_cell\n    return super(ZMQInteractiveShell, self).run_cell(*args, **kwargs)\n  File \"C:\\Users\\ChunQi\\Anaconda3\\envs\\TestEnv\\lib\\site-packages\\IPython\\core\\interactiveshell.py\", line 2855, in run_cell\n    raw_cell, store_history, silent, shell_futures)\n  File \"C:\\Users\\ChunQi\\Anaconda3\\envs\\TestEnv\\lib\\site-packages\\IPython\\core\\interactiveshell.py\", line 2881, in _run_cell\n    return runner(coro)\n  File \"C:\\Users\\ChunQi\\Anaconda3\\envs\\TestEnv\\lib\\site-packages\\IPython\\core\\async_helpers.py\", line 68, in _pseudo_sync_runner\n    coro.send(None)\n  File \"C:\\Users\\ChunQi\\Anaconda3\\envs\\TestEnv\\lib\\site-packages\\IPython\\core\\interactiveshell.py\", line 3058, in run_cell_async\n    interactivity=interactivity, compiler=compiler, result=result)\n  File \"C:\\Users\\ChunQi\\Anaconda3\\envs\\TestEnv\\lib\\site-packages\\IPython\\core\\interactiveshell.py\", line 3249, in run_ast_nodes\n    if (await self.run_code(code, result,  async_=asy)):\n  File \"C:\\Users\\ChunQi\\Anaconda3\\envs\\TestEnv\\lib\\site-packages\\IPython\\core\\interactiveshell.py\", line 3326, in run_code\n    exec(code_obj, self.user_global_ns, self.user_ns)\n  File \"<ipython-input-4-0aab41d8cf28>\", line 3, in <module>\n    model.learn(total_timesteps=25000)\n  File \"C:\\Users\\ChunQi\\Anaconda3\\envs\\TestEnv\\lib\\site-packages\\stable_baselines\\acktr\\acktr.py\", line 291, in learn\n    self.train_op, self.q_runner = self.optim.apply_gradients(list(zip(self.grads_check, self.params)))\n  File \"C:\\Users\\ChunQi\\Anaconda3\\envs\\TestEnv\\lib\\site-packages\\stable_baselines\\acktr\\kfac.py\", line 989, in apply_gradients\n    kfac_optim_op, queue_runner = self.apply_gradients_kfac(grads)\n  File \"C:\\Users\\ChunQi\\Anaconda3\\envs\\TestEnv\\lib\\site-packages\\stable_baselines\\acktr\\kfac.py\", line 914, in apply_gradients_kfac\n    no_op_wrapper)\n  File \"C:\\Users\\ChunQi\\Anaconda3\\envs\\TestEnv\\lib\\site-packages\\tensorflow\\python\\util\\deprecation.py\", line 507, in new_func\n    return func(*args, **kwargs)\n  File \"C:\\Users\\ChunQi\\Anaconda3\\envs\\TestEnv\\lib\\site-packages\\tensorflow\\python\\ops\\control_flow_ops.py\", line 1977, in cond\n    orig_res_t, res_t = context_t.BuildCondBranch(true_fn)\n  File \"C:\\Users\\ChunQi\\Anaconda3\\envs\\TestEnv\\lib\\site-packages\\tensorflow\\python\\ops\\control_flow_ops.py\", line 1814, in BuildCondBranch\n    original_result = fn()\n  File \"C:\\Users\\ChunQi\\Anaconda3\\envs\\TestEnv\\lib\\site-packages\\stable_baselines\\acktr\\kfac.py\", line 913, in <lambda>\n    lambda: tf.group(*self.apply_stats_eigen(self.compute_stats_eigen())),\n  File \"C:\\Users\\ChunQi\\Anaconda3\\envs\\TestEnv\\lib\\site-packages\\stable_baselines\\acktr\\kfac.py\", line 616, in compute_stats_eigen\n    eigen_decomposition = tf.self_adjoint_eig(stats_var)\n  File \"C:\\Users\\ChunQi\\Anaconda3\\envs\\TestEnv\\lib\\site-packages\\tensorflow\\python\\ops\\linalg_ops.py\", line 328, in self_adjoint_eig\n    e, v = gen_linalg_ops.self_adjoint_eig_v2(tensor, compute_v=True, name=name)\n  File \"C:\\Users\\ChunQi\\Anaconda3\\envs\\TestEnv\\lib\\site-packages\\tensorflow\\python\\ops\\gen_linalg_ops.py\", line 2168, in self_adjoint_eig_v2\n    \"SelfAdjointEigV2\", input=input, compute_v=compute_v, name=name)\n  File \"C:\\Users\\ChunQi\\Anaconda3\\envs\\TestEnv\\lib\\site-packages\\tensorflow\\python\\framework\\op_def_library.py\", line 788, in _apply_op_helper\n    op_def=op_def)\n  File \"C:\\Users\\ChunQi\\Anaconda3\\envs\\TestEnv\\lib\\site-packages\\tensorflow\\python\\util\\deprecation.py\", line 507, in new_func\n    return func(*args, **kwargs)\n  File \"C:\\Users\\ChunQi\\Anaconda3\\envs\\TestEnv\\lib\\site-packages\\tensorflow\\python\\framework\\ops.py\", line 3616, in create_op\n    op_def=op_def)\n  File \"C:\\Users\\ChunQi\\Anaconda3\\envs\\TestEnv\\lib\\site-packages\\tensorflow\\python\\framework\\ops.py\", line 2005, in __init__\n    self._traceback = tf_stack.extract_stack()\n",
     "output_type": "error",
     "traceback": [
      "\u001b[1;31m---------------------------------------------------------------------------\u001b[0m",
      "\u001b[1;31mInvalidArgumentError\u001b[0m                      Traceback (most recent call last)",
      "\u001b[1;32m~\\Anaconda3\\envs\\TestEnv\\lib\\site-packages\\tensorflow\\python\\client\\session.py\u001b[0m in \u001b[0;36m_do_call\u001b[1;34m(self, fn, *args)\u001b[0m\n\u001b[0;32m   1355\u001b[0m     \u001b[1;32mtry\u001b[0m\u001b[1;33m:\u001b[0m\u001b[1;33m\u001b[0m\u001b[1;33m\u001b[0m\u001b[0m\n\u001b[1;32m-> 1356\u001b[1;33m       \u001b[1;32mreturn\u001b[0m \u001b[0mfn\u001b[0m\u001b[1;33m(\u001b[0m\u001b[1;33m*\u001b[0m\u001b[0margs\u001b[0m\u001b[1;33m)\u001b[0m\u001b[1;33m\u001b[0m\u001b[1;33m\u001b[0m\u001b[0m\n\u001b[0m\u001b[0;32m   1357\u001b[0m     \u001b[1;32mexcept\u001b[0m \u001b[0merrors\u001b[0m\u001b[1;33m.\u001b[0m\u001b[0mOpError\u001b[0m \u001b[1;32mas\u001b[0m \u001b[0me\u001b[0m\u001b[1;33m:\u001b[0m\u001b[1;33m\u001b[0m\u001b[1;33m\u001b[0m\u001b[0m\n",
      "\u001b[1;32m~\\Anaconda3\\envs\\TestEnv\\lib\\site-packages\\tensorflow\\python\\client\\session.py\u001b[0m in \u001b[0;36m_run_fn\u001b[1;34m(feed_dict, fetch_list, target_list, options, run_metadata)\u001b[0m\n\u001b[0;32m   1340\u001b[0m       return self._call_tf_sessionrun(\n\u001b[1;32m-> 1341\u001b[1;33m           options, feed_dict, fetch_list, target_list, run_metadata)\n\u001b[0m\u001b[0;32m   1342\u001b[0m \u001b[1;33m\u001b[0m\u001b[0m\n",
      "\u001b[1;32m~\\Anaconda3\\envs\\TestEnv\\lib\\site-packages\\tensorflow\\python\\client\\session.py\u001b[0m in \u001b[0;36m_call_tf_sessionrun\u001b[1;34m(self, options, feed_dict, fetch_list, target_list, run_metadata)\u001b[0m\n\u001b[0;32m   1428\u001b[0m         \u001b[0mself\u001b[0m\u001b[1;33m.\u001b[0m\u001b[0m_session\u001b[0m\u001b[1;33m,\u001b[0m \u001b[0moptions\u001b[0m\u001b[1;33m,\u001b[0m \u001b[0mfeed_dict\u001b[0m\u001b[1;33m,\u001b[0m \u001b[0mfetch_list\u001b[0m\u001b[1;33m,\u001b[0m \u001b[0mtarget_list\u001b[0m\u001b[1;33m,\u001b[0m\u001b[1;33m\u001b[0m\u001b[1;33m\u001b[0m\u001b[0m\n\u001b[1;32m-> 1429\u001b[1;33m         run_metadata)\n\u001b[0m\u001b[0;32m   1430\u001b[0m \u001b[1;33m\u001b[0m\u001b[0m\n",
      "\u001b[1;31mInvalidArgumentError\u001b[0m: 2 root error(s) found.\n  (0) Invalid argument: Self-adjoint eigen decomposition was not successful. The input might not be valid.\n\t [[{{node kfac_apply/cond/SelfAdjointEigV2}}]]\n  (1) Invalid argument: Self-adjoint eigen decomposition was not successful. The input might not be valid.\n\t [[{{node kfac_apply/cond/SelfAdjointEigV2}}]]\n\t [[kfac_apply/cond_1/Min_2/Switch/_383]]\n0 successful operations.\n0 derived errors ignored.",
      "\nDuring handling of the above exception, another exception occurred:\n",
      "\u001b[1;31mInvalidArgumentError\u001b[0m                      Traceback (most recent call last)",
      "\u001b[1;32m<ipython-input-4-0aab41d8cf28>\u001b[0m in \u001b[0;36m<module>\u001b[1;34m\u001b[0m\n\u001b[0;32m      1\u001b[0m \u001b[0menv\u001b[0m \u001b[1;33m=\u001b[0m \u001b[0mSubprocVecEnv\u001b[0m\u001b[1;33m(\u001b[0m\u001b[1;33m[\u001b[0m\u001b[0mSimEnv\u001b[0m\u001b[1;33m]\u001b[0m\u001b[1;33m)\u001b[0m\u001b[1;33m\u001b[0m\u001b[1;33m\u001b[0m\u001b[0m\n\u001b[0;32m      2\u001b[0m \u001b[0mmodel\u001b[0m \u001b[1;33m=\u001b[0m \u001b[0mACKTR\u001b[0m\u001b[1;33m(\u001b[0m\u001b[0mMlpLstmPolicy\u001b[0m\u001b[1;33m,\u001b[0m \u001b[0menv\u001b[0m\u001b[1;33m,\u001b[0m \u001b[0mverbose\u001b[0m\u001b[1;33m=\u001b[0m\u001b[1;36m1\u001b[0m\u001b[1;33m)\u001b[0m\u001b[1;33m\u001b[0m\u001b[1;33m\u001b[0m\u001b[0m\n\u001b[1;32m----> 3\u001b[1;33m \u001b[0mmodel\u001b[0m\u001b[1;33m.\u001b[0m\u001b[0mlearn\u001b[0m\u001b[1;33m(\u001b[0m\u001b[0mtotal_timesteps\u001b[0m\u001b[1;33m=\u001b[0m\u001b[1;36m25000\u001b[0m\u001b[1;33m)\u001b[0m\u001b[1;33m\u001b[0m\u001b[1;33m\u001b[0m\u001b[0m\n\u001b[0m",
      "\u001b[1;32m~\\Anaconda3\\envs\\TestEnv\\lib\\site-packages\\stable_baselines\\acktr\\acktr.py\u001b[0m in \u001b[0;36mlearn\u001b[1;34m(self, total_timesteps, callback, seed, log_interval, tb_log_name, reset_num_timesteps)\u001b[0m\n\u001b[0;32m    331\u001b[0m                 policy_loss, value_loss, policy_entropy = self._train_step(obs, states, returns, masks, actions, values,\n\u001b[0;32m    332\u001b[0m                                                                            \u001b[0mself\u001b[0m\u001b[1;33m.\u001b[0m\u001b[0mnum_timesteps\u001b[0m \u001b[1;33m//\u001b[0m \u001b[1;33m(\u001b[0m\u001b[0mself\u001b[0m\u001b[1;33m.\u001b[0m\u001b[0mn_batch\u001b[0m \u001b[1;33m+\u001b[0m \u001b[1;36m1\u001b[0m\u001b[1;33m)\u001b[0m\u001b[1;33m,\u001b[0m\u001b[1;33m\u001b[0m\u001b[1;33m\u001b[0m\u001b[0m\n\u001b[1;32m--> 333\u001b[1;33m                                                                            writer)\n\u001b[0m\u001b[0;32m    334\u001b[0m                 \u001b[0mn_seconds\u001b[0m \u001b[1;33m=\u001b[0m \u001b[0mtime\u001b[0m\u001b[1;33m.\u001b[0m\u001b[0mtime\u001b[0m\u001b[1;33m(\u001b[0m\u001b[1;33m)\u001b[0m \u001b[1;33m-\u001b[0m \u001b[0mt_start\u001b[0m\u001b[1;33m\u001b[0m\u001b[1;33m\u001b[0m\u001b[0m\n\u001b[0;32m    335\u001b[0m                 \u001b[0mfps\u001b[0m \u001b[1;33m=\u001b[0m \u001b[0mint\u001b[0m\u001b[1;33m(\u001b[0m\u001b[1;33m(\u001b[0m\u001b[0mupdate\u001b[0m \u001b[1;33m*\u001b[0m \u001b[0mself\u001b[0m\u001b[1;33m.\u001b[0m\u001b[0mn_batch\u001b[0m\u001b[1;33m)\u001b[0m \u001b[1;33m/\u001b[0m \u001b[0mn_seconds\u001b[0m\u001b[1;33m)\u001b[0m\u001b[1;33m\u001b[0m\u001b[1;33m\u001b[0m\u001b[0m\n",
      "\u001b[1;32m~\\Anaconda3\\envs\\TestEnv\\lib\\site-packages\\stable_baselines\\acktr\\acktr.py\u001b[0m in \u001b[0;36m_train_step\u001b[1;34m(self, obs, states, rewards, masks, actions, values, update, writer)\u001b[0m\n\u001b[0;32m    261\u001b[0m         \u001b[1;32melse\u001b[0m\u001b[1;33m:\u001b[0m\u001b[1;33m\u001b[0m\u001b[1;33m\u001b[0m\u001b[0m\n\u001b[0;32m    262\u001b[0m             policy_loss, value_loss, policy_entropy, _ = self.sess.run(\n\u001b[1;32m--> 263\u001b[1;33m                 [self.pg_loss, self.vf_loss, self.entropy, self.train_op], td_map)\n\u001b[0m\u001b[0;32m    264\u001b[0m \u001b[1;33m\u001b[0m\u001b[0m\n\u001b[0;32m    265\u001b[0m         \u001b[1;32mreturn\u001b[0m \u001b[0mpolicy_loss\u001b[0m\u001b[1;33m,\u001b[0m \u001b[0mvalue_loss\u001b[0m\u001b[1;33m,\u001b[0m \u001b[0mpolicy_entropy\u001b[0m\u001b[1;33m\u001b[0m\u001b[1;33m\u001b[0m\u001b[0m\n",
      "\u001b[1;32m~\\Anaconda3\\envs\\TestEnv\\lib\\site-packages\\tensorflow\\python\\client\\session.py\u001b[0m in \u001b[0;36mrun\u001b[1;34m(self, fetches, feed_dict, options, run_metadata)\u001b[0m\n\u001b[0;32m    948\u001b[0m     \u001b[1;32mtry\u001b[0m\u001b[1;33m:\u001b[0m\u001b[1;33m\u001b[0m\u001b[1;33m\u001b[0m\u001b[0m\n\u001b[0;32m    949\u001b[0m       result = self._run(None, fetches, feed_dict, options_ptr,\n\u001b[1;32m--> 950\u001b[1;33m                          run_metadata_ptr)\n\u001b[0m\u001b[0;32m    951\u001b[0m       \u001b[1;32mif\u001b[0m \u001b[0mrun_metadata\u001b[0m\u001b[1;33m:\u001b[0m\u001b[1;33m\u001b[0m\u001b[1;33m\u001b[0m\u001b[0m\n\u001b[0;32m    952\u001b[0m         \u001b[0mproto_data\u001b[0m \u001b[1;33m=\u001b[0m \u001b[0mtf_session\u001b[0m\u001b[1;33m.\u001b[0m\u001b[0mTF_GetBuffer\u001b[0m\u001b[1;33m(\u001b[0m\u001b[0mrun_metadata_ptr\u001b[0m\u001b[1;33m)\u001b[0m\u001b[1;33m\u001b[0m\u001b[1;33m\u001b[0m\u001b[0m\n",
      "\u001b[1;32m~\\Anaconda3\\envs\\TestEnv\\lib\\site-packages\\tensorflow\\python\\client\\session.py\u001b[0m in \u001b[0;36m_run\u001b[1;34m(self, handle, fetches, feed_dict, options, run_metadata)\u001b[0m\n\u001b[0;32m   1171\u001b[0m     \u001b[1;32mif\u001b[0m \u001b[0mfinal_fetches\u001b[0m \u001b[1;32mor\u001b[0m \u001b[0mfinal_targets\u001b[0m \u001b[1;32mor\u001b[0m \u001b[1;33m(\u001b[0m\u001b[0mhandle\u001b[0m \u001b[1;32mand\u001b[0m \u001b[0mfeed_dict_tensor\u001b[0m\u001b[1;33m)\u001b[0m\u001b[1;33m:\u001b[0m\u001b[1;33m\u001b[0m\u001b[1;33m\u001b[0m\u001b[0m\n\u001b[0;32m   1172\u001b[0m       results = self._do_run(handle, final_targets, final_fetches,\n\u001b[1;32m-> 1173\u001b[1;33m                              feed_dict_tensor, options, run_metadata)\n\u001b[0m\u001b[0;32m   1174\u001b[0m     \u001b[1;32melse\u001b[0m\u001b[1;33m:\u001b[0m\u001b[1;33m\u001b[0m\u001b[1;33m\u001b[0m\u001b[0m\n\u001b[0;32m   1175\u001b[0m       \u001b[0mresults\u001b[0m \u001b[1;33m=\u001b[0m \u001b[1;33m[\u001b[0m\u001b[1;33m]\u001b[0m\u001b[1;33m\u001b[0m\u001b[1;33m\u001b[0m\u001b[0m\n",
      "\u001b[1;32m~\\Anaconda3\\envs\\TestEnv\\lib\\site-packages\\tensorflow\\python\\client\\session.py\u001b[0m in \u001b[0;36m_do_run\u001b[1;34m(self, handle, target_list, fetch_list, feed_dict, options, run_metadata)\u001b[0m\n\u001b[0;32m   1348\u001b[0m     \u001b[1;32mif\u001b[0m \u001b[0mhandle\u001b[0m \u001b[1;32mis\u001b[0m \u001b[1;32mNone\u001b[0m\u001b[1;33m:\u001b[0m\u001b[1;33m\u001b[0m\u001b[1;33m\u001b[0m\u001b[0m\n\u001b[0;32m   1349\u001b[0m       return self._do_call(_run_fn, feeds, fetches, targets, options,\n\u001b[1;32m-> 1350\u001b[1;33m                            run_metadata)\n\u001b[0m\u001b[0;32m   1351\u001b[0m     \u001b[1;32melse\u001b[0m\u001b[1;33m:\u001b[0m\u001b[1;33m\u001b[0m\u001b[1;33m\u001b[0m\u001b[0m\n\u001b[0;32m   1352\u001b[0m       \u001b[1;32mreturn\u001b[0m \u001b[0mself\u001b[0m\u001b[1;33m.\u001b[0m\u001b[0m_do_call\u001b[0m\u001b[1;33m(\u001b[0m\u001b[0m_prun_fn\u001b[0m\u001b[1;33m,\u001b[0m \u001b[0mhandle\u001b[0m\u001b[1;33m,\u001b[0m \u001b[0mfeeds\u001b[0m\u001b[1;33m,\u001b[0m \u001b[0mfetches\u001b[0m\u001b[1;33m)\u001b[0m\u001b[1;33m\u001b[0m\u001b[1;33m\u001b[0m\u001b[0m\n",
      "\u001b[1;32m~\\Anaconda3\\envs\\TestEnv\\lib\\site-packages\\tensorflow\\python\\client\\session.py\u001b[0m in \u001b[0;36m_do_call\u001b[1;34m(self, fn, *args)\u001b[0m\n\u001b[0;32m   1368\u001b[0m           \u001b[1;32mpass\u001b[0m\u001b[1;33m\u001b[0m\u001b[1;33m\u001b[0m\u001b[0m\n\u001b[0;32m   1369\u001b[0m       \u001b[0mmessage\u001b[0m \u001b[1;33m=\u001b[0m \u001b[0merror_interpolation\u001b[0m\u001b[1;33m.\u001b[0m\u001b[0minterpolate\u001b[0m\u001b[1;33m(\u001b[0m\u001b[0mmessage\u001b[0m\u001b[1;33m,\u001b[0m \u001b[0mself\u001b[0m\u001b[1;33m.\u001b[0m\u001b[0m_graph\u001b[0m\u001b[1;33m)\u001b[0m\u001b[1;33m\u001b[0m\u001b[1;33m\u001b[0m\u001b[0m\n\u001b[1;32m-> 1370\u001b[1;33m       \u001b[1;32mraise\u001b[0m \u001b[0mtype\u001b[0m\u001b[1;33m(\u001b[0m\u001b[0me\u001b[0m\u001b[1;33m)\u001b[0m\u001b[1;33m(\u001b[0m\u001b[0mnode_def\u001b[0m\u001b[1;33m,\u001b[0m \u001b[0mop\u001b[0m\u001b[1;33m,\u001b[0m \u001b[0mmessage\u001b[0m\u001b[1;33m)\u001b[0m\u001b[1;33m\u001b[0m\u001b[1;33m\u001b[0m\u001b[0m\n\u001b[0m\u001b[0;32m   1371\u001b[0m \u001b[1;33m\u001b[0m\u001b[0m\n\u001b[0;32m   1372\u001b[0m   \u001b[1;32mdef\u001b[0m \u001b[0m_extend_graph\u001b[0m\u001b[1;33m(\u001b[0m\u001b[0mself\u001b[0m\u001b[1;33m)\u001b[0m\u001b[1;33m:\u001b[0m\u001b[1;33m\u001b[0m\u001b[1;33m\u001b[0m\u001b[0m\n",
      "\u001b[1;31mInvalidArgumentError\u001b[0m: 2 root error(s) found.\n  (0) Invalid argument: Self-adjoint eigen decomposition was not successful. The input might not be valid.\n\t [[node kfac_apply/cond/SelfAdjointEigV2 (defined at C:\\Users\\ChunQi\\Anaconda3\\envs\\TestEnv\\lib\\site-packages\\stable_baselines\\acktr\\kfac.py:616) ]]\n  (1) Invalid argument: Self-adjoint eigen decomposition was not successful. The input might not be valid.\n\t [[node kfac_apply/cond/SelfAdjointEigV2 (defined at C:\\Users\\ChunQi\\Anaconda3\\envs\\TestEnv\\lib\\site-packages\\stable_baselines\\acktr\\kfac.py:616) ]]\n\t [[kfac_apply/cond_1/Min_2/Switch/_383]]\n0 successful operations.\n0 derived errors ignored.\n\nErrors may have originated from an input operation.\nInput Source operations connected to node kfac_apply/cond/SelfAdjointEigV2:\n kfac/cond/Merge (defined at C:\\Users\\ChunQi\\Anaconda3\\envs\\TestEnv\\lib\\site-packages\\stable_baselines\\acktr\\kfac.py:526)\t\n kfac_apply/AssignAdd (defined at C:\\Users\\ChunQi\\Anaconda3\\envs\\TestEnv\\lib\\site-packages\\stable_baselines\\acktr\\kfac.py:891)\n\nInput Source operations connected to node kfac_apply/cond/SelfAdjointEigV2:\n kfac/cond/Merge (defined at C:\\Users\\ChunQi\\Anaconda3\\envs\\TestEnv\\lib\\site-packages\\stable_baselines\\acktr\\kfac.py:526)\t\n kfac_apply/AssignAdd (defined at C:\\Users\\ChunQi\\Anaconda3\\envs\\TestEnv\\lib\\site-packages\\stable_baselines\\acktr\\kfac.py:891)\n\nOriginal stack trace for 'kfac_apply/cond/SelfAdjointEigV2':\n  File \"C:\\Users\\ChunQi\\Anaconda3\\envs\\TestEnv\\lib\\runpy.py\", line 193, in _run_module_as_main\n    \"__main__\", mod_spec)\n  File \"C:\\Users\\ChunQi\\Anaconda3\\envs\\TestEnv\\lib\\runpy.py\", line 85, in _run_code\n    exec(code, run_globals)\n  File \"C:\\Users\\ChunQi\\Anaconda3\\envs\\TestEnv\\lib\\site-packages\\ipykernel_launcher.py\", line 16, in <module>\n    app.launch_new_instance()\n  File \"C:\\Users\\ChunQi\\Anaconda3\\envs\\TestEnv\\lib\\site-packages\\traitlets\\config\\application.py\", line 664, in launch_instance\n    app.start()\n  File \"C:\\Users\\ChunQi\\Anaconda3\\envs\\TestEnv\\lib\\site-packages\\ipykernel\\kernelapp.py\", line 563, in start\n    self.io_loop.start()\n  File \"C:\\Users\\ChunQi\\Anaconda3\\envs\\TestEnv\\lib\\site-packages\\tornado\\platform\\asyncio.py\", line 148, in start\n    self.asyncio_loop.run_forever()\n  File \"C:\\Users\\ChunQi\\Anaconda3\\envs\\TestEnv\\lib\\asyncio\\base_events.py\", line 534, in run_forever\n    self._run_once()\n  File \"C:\\Users\\ChunQi\\Anaconda3\\envs\\TestEnv\\lib\\asyncio\\base_events.py\", line 1771, in _run_once\n    handle._run()\n  File \"C:\\Users\\ChunQi\\Anaconda3\\envs\\TestEnv\\lib\\asyncio\\events.py\", line 88, in _run\n    self._context.run(self._callback, *self._args)\n  File \"C:\\Users\\ChunQi\\Anaconda3\\envs\\TestEnv\\lib\\site-packages\\tornado\\ioloop.py\", line 690, in <lambda>\n    lambda f: self._run_callback(functools.partial(callback, future))\n  File \"C:\\Users\\ChunQi\\Anaconda3\\envs\\TestEnv\\lib\\site-packages\\tornado\\ioloop.py\", line 743, in _run_callback\n    ret = callback()\n  File \"C:\\Users\\ChunQi\\Anaconda3\\envs\\TestEnv\\lib\\site-packages\\tornado\\gen.py\", line 787, in inner\n    self.run()\n  File \"C:\\Users\\ChunQi\\Anaconda3\\envs\\TestEnv\\lib\\site-packages\\tornado\\gen.py\", line 748, in run\n    yielded = self.gen.send(value)\n  File \"C:\\Users\\ChunQi\\Anaconda3\\envs\\TestEnv\\lib\\site-packages\\ipykernel\\kernelbase.py\", line 378, in dispatch_queue\n    yield self.process_one()\n  File \"C:\\Users\\ChunQi\\Anaconda3\\envs\\TestEnv\\lib\\site-packages\\tornado\\gen.py\", line 225, in wrapper\n    runner = Runner(result, future, yielded)\n  File \"C:\\Users\\ChunQi\\Anaconda3\\envs\\TestEnv\\lib\\site-packages\\tornado\\gen.py\", line 714, in __init__\n    self.run()\n  File \"C:\\Users\\ChunQi\\Anaconda3\\envs\\TestEnv\\lib\\site-packages\\tornado\\gen.py\", line 748, in run\n    yielded = self.gen.send(value)\n  File \"C:\\Users\\ChunQi\\Anaconda3\\envs\\TestEnv\\lib\\site-packages\\ipykernel\\kernelbase.py\", line 365, in process_one\n    yield gen.maybe_future(dispatch(*args))\n  File \"C:\\Users\\ChunQi\\Anaconda3\\envs\\TestEnv\\lib\\site-packages\\tornado\\gen.py\", line 209, in wrapper\n    yielded = next(result)\n  File \"C:\\Users\\ChunQi\\Anaconda3\\envs\\TestEnv\\lib\\site-packages\\ipykernel\\kernelbase.py\", line 272, in dispatch_shell\n    yield gen.maybe_future(handler(stream, idents, msg))\n  File \"C:\\Users\\ChunQi\\Anaconda3\\envs\\TestEnv\\lib\\site-packages\\tornado\\gen.py\", line 209, in wrapper\n    yielded = next(result)\n  File \"C:\\Users\\ChunQi\\Anaconda3\\envs\\TestEnv\\lib\\site-packages\\ipykernel\\kernelbase.py\", line 542, in execute_request\n    user_expressions, allow_stdin,\n  File \"C:\\Users\\ChunQi\\Anaconda3\\envs\\TestEnv\\lib\\site-packages\\tornado\\gen.py\", line 209, in wrapper\n    yielded = next(result)\n  File \"C:\\Users\\ChunQi\\Anaconda3\\envs\\TestEnv\\lib\\site-packages\\ipykernel\\ipkernel.py\", line 294, in do_execute\n    res = shell.run_cell(code, store_history=store_history, silent=silent)\n  File \"C:\\Users\\ChunQi\\Anaconda3\\envs\\TestEnv\\lib\\site-packages\\ipykernel\\zmqshell.py\", line 536, in run_cell\n    return super(ZMQInteractiveShell, self).run_cell(*args, **kwargs)\n  File \"C:\\Users\\ChunQi\\Anaconda3\\envs\\TestEnv\\lib\\site-packages\\IPython\\core\\interactiveshell.py\", line 2855, in run_cell\n    raw_cell, store_history, silent, shell_futures)\n  File \"C:\\Users\\ChunQi\\Anaconda3\\envs\\TestEnv\\lib\\site-packages\\IPython\\core\\interactiveshell.py\", line 2881, in _run_cell\n    return runner(coro)\n  File \"C:\\Users\\ChunQi\\Anaconda3\\envs\\TestEnv\\lib\\site-packages\\IPython\\core\\async_helpers.py\", line 68, in _pseudo_sync_runner\n    coro.send(None)\n  File \"C:\\Users\\ChunQi\\Anaconda3\\envs\\TestEnv\\lib\\site-packages\\IPython\\core\\interactiveshell.py\", line 3058, in run_cell_async\n    interactivity=interactivity, compiler=compiler, result=result)\n  File \"C:\\Users\\ChunQi\\Anaconda3\\envs\\TestEnv\\lib\\site-packages\\IPython\\core\\interactiveshell.py\", line 3249, in run_ast_nodes\n    if (await self.run_code(code, result,  async_=asy)):\n  File \"C:\\Users\\ChunQi\\Anaconda3\\envs\\TestEnv\\lib\\site-packages\\IPython\\core\\interactiveshell.py\", line 3326, in run_code\n    exec(code_obj, self.user_global_ns, self.user_ns)\n  File \"<ipython-input-4-0aab41d8cf28>\", line 3, in <module>\n    model.learn(total_timesteps=25000)\n  File \"C:\\Users\\ChunQi\\Anaconda3\\envs\\TestEnv\\lib\\site-packages\\stable_baselines\\acktr\\acktr.py\", line 291, in learn\n    self.train_op, self.q_runner = self.optim.apply_gradients(list(zip(self.grads_check, self.params)))\n  File \"C:\\Users\\ChunQi\\Anaconda3\\envs\\TestEnv\\lib\\site-packages\\stable_baselines\\acktr\\kfac.py\", line 989, in apply_gradients\n    kfac_optim_op, queue_runner = self.apply_gradients_kfac(grads)\n  File \"C:\\Users\\ChunQi\\Anaconda3\\envs\\TestEnv\\lib\\site-packages\\stable_baselines\\acktr\\kfac.py\", line 914, in apply_gradients_kfac\n    no_op_wrapper)\n  File \"C:\\Users\\ChunQi\\Anaconda3\\envs\\TestEnv\\lib\\site-packages\\tensorflow\\python\\util\\deprecation.py\", line 507, in new_func\n    return func(*args, **kwargs)\n  File \"C:\\Users\\ChunQi\\Anaconda3\\envs\\TestEnv\\lib\\site-packages\\tensorflow\\python\\ops\\control_flow_ops.py\", line 1977, in cond\n    orig_res_t, res_t = context_t.BuildCondBranch(true_fn)\n  File \"C:\\Users\\ChunQi\\Anaconda3\\envs\\TestEnv\\lib\\site-packages\\tensorflow\\python\\ops\\control_flow_ops.py\", line 1814, in BuildCondBranch\n    original_result = fn()\n  File \"C:\\Users\\ChunQi\\Anaconda3\\envs\\TestEnv\\lib\\site-packages\\stable_baselines\\acktr\\kfac.py\", line 913, in <lambda>\n    lambda: tf.group(*self.apply_stats_eigen(self.compute_stats_eigen())),\n  File \"C:\\Users\\ChunQi\\Anaconda3\\envs\\TestEnv\\lib\\site-packages\\stable_baselines\\acktr\\kfac.py\", line 616, in compute_stats_eigen\n    eigen_decomposition = tf.self_adjoint_eig(stats_var)\n  File \"C:\\Users\\ChunQi\\Anaconda3\\envs\\TestEnv\\lib\\site-packages\\tensorflow\\python\\ops\\linalg_ops.py\", line 328, in self_adjoint_eig\n    e, v = gen_linalg_ops.self_adjoint_eig_v2(tensor, compute_v=True, name=name)\n  File \"C:\\Users\\ChunQi\\Anaconda3\\envs\\TestEnv\\lib\\site-packages\\tensorflow\\python\\ops\\gen_linalg_ops.py\", line 2168, in self_adjoint_eig_v2\n    \"SelfAdjointEigV2\", input=input, compute_v=compute_v, name=name)\n  File \"C:\\Users\\ChunQi\\Anaconda3\\envs\\TestEnv\\lib\\site-packages\\tensorflow\\python\\framework\\op_def_library.py\", line 788, in _apply_op_helper\n    op_def=op_def)\n  File \"C:\\Users\\ChunQi\\Anaconda3\\envs\\TestEnv\\lib\\site-packages\\tensorflow\\python\\util\\deprecation.py\", line 507, in new_func\n    return func(*args, **kwargs)\n  File \"C:\\Users\\ChunQi\\Anaconda3\\envs\\TestEnv\\lib\\site-packages\\tensorflow\\python\\framework\\ops.py\", line 3616, in create_op\n    op_def=op_def)\n  File \"C:\\Users\\ChunQi\\Anaconda3\\envs\\TestEnv\\lib\\site-packages\\tensorflow\\python\\framework\\ops.py\", line 2005, in __init__\n    self._traceback = tf_stack.extract_stack()\n"
     ]
    }
   ],
   "source": [
    "env = SubprocVecEnv([SimEnv])\n",
    "model = ACKTR(MlpLstmPolicy, env, verbose=1)\n",
    "model.learn(total_timesteps=25000)"
   ]
  },
  {
   "cell_type": "code",
   "execution_count": null,
   "metadata": {},
   "outputs": [],
   "source": []
  }
 ],
 "metadata": {
  "hide_input": false,
  "kernelspec": {
   "display_name": "Python 3",
   "language": "python",
   "name": "python3"
  },
  "language_info": {
   "codemirror_mode": {
    "name": "ipython",
    "version": 3
   },
   "file_extension": ".py",
   "mimetype": "text/x-python",
   "name": "python",
   "nbconvert_exporter": "python",
   "pygments_lexer": "ipython3",
   "version": "3.7.5"
  },
  "varInspector": {
   "cols": {
    "lenName": 16,
    "lenType": 16,
    "lenVar": 40
   },
   "kernels_config": {
    "python": {
     "delete_cmd_postfix": "",
     "delete_cmd_prefix": "del ",
     "library": "var_list.py",
     "varRefreshCmd": "print(var_dic_list())"
    },
    "r": {
     "delete_cmd_postfix": ") ",
     "delete_cmd_prefix": "rm(",
     "library": "var_list.r",
     "varRefreshCmd": "cat(var_dic_list()) "
    }
   },
   "types_to_exclude": [
    "module",
    "function",
    "builtin_function_or_method",
    "instance",
    "_Feature"
   ],
   "window_display": false
  }
 },
 "nbformat": 4,
 "nbformat_minor": 2
}
